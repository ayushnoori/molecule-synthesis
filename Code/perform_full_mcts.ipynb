{
 "cells": [
  {
   "cell_type": "code",
   "execution_count": 2,
   "metadata": {},
   "outputs": [],
   "source": [
    "# standard imports\n",
    "import numpy as np\n",
    "import pandas as pd\n",
    "import random\n",
    "from datetime import datetime\n",
    "\n",
    "# import custom modules\n",
    "import sys\n",
    "\n",
    "sys.path.append(\"..\")\n",
    "import project_config"
   ]
  },
  {
   "cell_type": "markdown",
   "metadata": {},
   "source": [
    "### Map Fragments to Model Scores\n",
    "```bash\n",
    "python inaki_map_fragments_to_model_scores.py \\\n",
    "    --fragment_path Data/synthesis_data 2021q3-4_Enamine_REAL_reagents_SMILES_no_salts.csv \\\n",
    "    --model_paths Data/property_predictors/chemprop_bbb_predictor Data/property_predictors/chemprop_drd2_predictor \\\n",
    "    --save_path Data/property_predictors/fragments_to_model_scores.json \\\n",
    "    --model_type chemprop \\\n",
    "    --fingerprint_type rdkit\n",
    "```"
   ]
  },
  {
   "cell_type": "markdown",
   "metadata": {},
   "source": [
    "## Generate Molectules Using MCTS\n",
    "Chemprop with RDKit\n",
    "```bash\n",
    "python inaki_tree_search.py \\\n",
    "    --model_paths Data/property_predictors/chemprop_bbb_predictor Data/property_predictors/chemprop_drd2_predictor \\\n",
    "    --fragment_path data/2021q3-4_Enamine_REAL_reagents_SMILES_no_salts.csv \\\n",
    "    --reaction_to_reagents_path data/reaction_to_reagents_REAL_space.json \\\n",
    "    --fragment_to_model_score_path ckpt/AB_combined_chemprop_rdkit/fragments_to_model_scores.json \\\n",
    "    --save_dir generations/mcts_AB_combined_chemprop_rdkit \\\n",
    "    --search_type mcts \\\n",
    "    --model_type chemprop \\\n",
    "    --fingerprint_type rdkit \\\n",
    "    --n_rollout 20000 \\\n",
    "    --fragment_diversity \\\n",
    "    --max_reactions 1\n",
    "```\n",
    "\n",
    "Random\n",
    "```bash\n",
    "python tree_search.py \\\n",
    "    --fragment_path data/2021q3-4_Enamine_REAL_reagents_SMILES_no_salts.csv \\\n",
    "    --reaction_to_reagents_path data/reaction_to_reagents_REAL_space.json \\\n",
    "    --save_dir generations/random \\\n",
    "    --search_type random \\\n",
    "    --n_rollout 20000 \\\n",
    "    --max_reactions 1\n",
    "```"
   ]
  },
  {
   "cell_type": "code",
   "execution_count": null,
   "metadata": {},
   "outputs": [],
   "source": [
    "# Generate molecules with MCTS"
   ]
  },
  {
   "cell_type": "markdown",
   "metadata": {},
   "source": [
    "## Make Predictions on Random Molecules"
   ]
  },
  {
   "cell_type": "code",
   "execution_count": null,
   "metadata": {},
   "outputs": [],
   "source": [
    "# Make predictions on random molecules"
   ]
  },
  {
   "cell_type": "markdown",
   "metadata": {},
   "source": [
    "## Assess Generated Molecules\n",
    "1. Fragment counts\n",
    "2. Maximum similarity within generated molecules\n",
    "3. Maximum similarity with training data (BBB and DRD2)\n",
    "4. Reaction counts (we should probably remove this or add an identifier of the reaction name to the bars)\n",
    "5. Score distribution with random generation\n",
    "6. Score distribution with guided generation"
   ]
  },
  {
   "cell_type": "code",
   "execution_count": 1,
   "metadata": {},
   "outputs": [],
   "source": []
  },
  {
   "cell_type": "code",
   "execution_count": null,
   "metadata": {},
   "outputs": [],
   "source": []
  }
 ],
 "metadata": {
  "kernelspec": {
   "display_name": "DeepPurpose",
   "language": "python",
   "name": "python3"
  },
  "language_info": {
   "codemirror_mode": {
    "name": "ipython",
    "version": 3
   },
   "file_extension": ".py",
   "mimetype": "text/x-python",
   "name": "python",
   "nbconvert_exporter": "python",
   "pygments_lexer": "ipython3",
   "version": "3.11.5"
  }
 },
 "nbformat": 4,
 "nbformat_minor": 2
}
