{
 "cells": [
  {
   "cell_type": "markdown",
   "metadata": {},
   "source": [
    "# Train Property Predictor\n",
    "\n",
    "First, import relevant libraries."
   ]
  },
  {
   "cell_type": "code",
   "execution_count": null,
   "metadata": {},
   "outputs": [],
   "source": [
    "from pathlib import Path\n",
    "\n",
    "from multisynth.property_predictors.chemprop_predictor.training.full_training_sequence import (\n",
    "    full_training_sequence,\n",
    "    Args as FullTrainingSequenceArgs,\n",
    ")"
   ]
  },
  {
   "cell_type": "markdown",
   "metadata": {},
   "source": [
    "Next. run the model."
   ]
  },
  {
   "cell_type": "code",
   "execution_count": null,
   "metadata": {},
   "outputs": [],
   "source": [
    "args = FullTrainingSequenceArgs()\n",
    "args.from_dict(\n",
    "    {\n",
    "        \"data_path\": Path(\"Data/DRD2_binding_data.csv\"),  # Path to the classifications.csv file with columns \"smiles\" and \"<property_column_name>\"\n",
    "        \"property_column_name\": \"DRD2_activity\",  # Name of the column containing the property to predict\n",
    "        \"save_dir\": Path(\"Data/property_predictors/chemprop_drd2_predictor\"),  # Path to the output directory where the models will be saved\n",
    "    }\n",
    ")\n",
    "\n",
    "full_training_sequence(args)"
   ]
  },
  {
   "cell_type": "code",
   "execution_count": null,
   "metadata": {},
   "outputs": [],
   "source": []
  }
 ],
 "metadata": {
  "kernelspec": {
   "display_name": "Python 3 (ipykernel)",
   "language": "python",
   "name": "python3"
  },
  "language_info": {
   "codemirror_mode": {
    "name": "ipython",
    "version": 3
   },
   "file_extension": ".py",
   "mimetype": "text/x-python",
   "name": "python",
   "nbconvert_exporter": "python",
   "pygments_lexer": "ipython3",
   "version": "3.10.12"
  }
 },
 "nbformat": 4,
 "nbformat_minor": 2
}
