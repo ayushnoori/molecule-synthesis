{
 "cells": [
  {
   "cell_type": "markdown",
   "metadata": {},
   "source": [
    "# Generate Binding Affinity Dataset"
   ]
  },
  {
   "cell_type": "code",
   "execution_count": 1,
   "metadata": {},
   "outputs": [],
   "source": [
    "# standard imports\n",
    "import numpy as np\n",
    "import pandas as pd\n",
    "import random\n",
    "from datetime import datetime\n",
    "\n",
    "# import custom modules\n",
    "import sys\n",
    "sys.path.append('../..')\n",
    "import project_config"
   ]
  },
  {
   "cell_type": "markdown",
   "metadata": {},
   "source": [
    "Read in [ExCAPE-DB dataset](https://jcheminf.biomedcentral.com/articles/10.1186/s13321-017-0203-5), published in *Journal of Cheminformatics* in 2017, and generate binding affinity dataset. Data was retrieved from Zenodo at DOI: [10.5281/zenodo.2543724](https://doi.org/10.5281/zenodo.2543724)."
   ]
  },
  {
   "cell_type": "code",
   "execution_count": 10,
   "metadata": {},
   "outputs": [
    {
     "data": {
      "text/html": [
       "<div>\n",
       "<style scoped>\n",
       "    .dataframe tbody tr th:only-of-type {\n",
       "        vertical-align: middle;\n",
       "    }\n",
       "\n",
       "    .dataframe tbody tr th {\n",
       "        vertical-align: top;\n",
       "    }\n",
       "\n",
       "    .dataframe thead th {\n",
       "        text-align: right;\n",
       "    }\n",
       "</style>\n",
       "<table border=\"1\" class=\"dataframe\">\n",
       "  <thead>\n",
       "    <tr style=\"text-align: right;\">\n",
       "      <th></th>\n",
       "      <th>Ambit_InchiKey</th>\n",
       "      <th>Original_Entry_ID</th>\n",
       "      <th>Entrez_ID</th>\n",
       "      <th>Activity_Flag</th>\n",
       "      <th>pXC50</th>\n",
       "      <th>DB</th>\n",
       "      <th>Original_Assay_ID</th>\n",
       "      <th>Tax_ID</th>\n",
       "      <th>Gene_Symbol</th>\n",
       "      <th>Ortholog_Group</th>\n",
       "      <th>InChI</th>\n",
       "      <th>SMILES</th>\n",
       "      <th>updated</th>\n",
       "    </tr>\n",
       "  </thead>\n",
       "  <tbody>\n",
       "    <tr>\n",
       "      <th>0</th>\n",
       "      <td>AAAAZQPHATYWOK-YRBRRWAQNA-N</td>\n",
       "      <td>11399331</td>\n",
       "      <td>2064</td>\n",
       "      <td>A</td>\n",
       "      <td>7.19382</td>\n",
       "      <td>pubchem</td>\n",
       "      <td>248914</td>\n",
       "      <td>9606</td>\n",
       "      <td>ERBB2</td>\n",
       "      <td>1346</td>\n",
       "      <td>InChI=1/C32H29ClN6O3S/c1-4-41-28-16-25-22(15-2...</td>\n",
       "      <td>ClC=1C=C(NC=2C=3C(N=CC2C#N)=CC(OCC)=C(NC(=O)/C...</td>\n",
       "      <td>NaN</td>\n",
       "    </tr>\n",
       "    <tr>\n",
       "      <th>1</th>\n",
       "      <td>AAAAZQPHATYWOK-YRBRRWAQNA-N</td>\n",
       "      <td>CHEMBL175513</td>\n",
       "      <td>1956</td>\n",
       "      <td>A</td>\n",
       "      <td>6.73000</td>\n",
       "      <td>chembl20</td>\n",
       "      <td>312997</td>\n",
       "      <td>9606</td>\n",
       "      <td>EGFR</td>\n",
       "      <td>1260</td>\n",
       "      <td>InChI=1/C32H29ClN6O3S/c1-4-41-28-16-25-22(15-2...</td>\n",
       "      <td>C1=2C(=C(C#N)C=NC1=CC(=C(C2)NC(/C=C/CN(C)C)=O)...</td>\n",
       "      <td>NaN</td>\n",
       "    </tr>\n",
       "    <tr>\n",
       "      <th>2</th>\n",
       "      <td>AAABHMIRDIOYOK-NPVYFSBINA-N</td>\n",
       "      <td>CHEMBL1527551</td>\n",
       "      <td>10919</td>\n",
       "      <td>N</td>\n",
       "      <td>4.55000</td>\n",
       "      <td>chembl20</td>\n",
       "      <td>737344</td>\n",
       "      <td>9606</td>\n",
       "      <td>EHMT2</td>\n",
       "      <td>6822</td>\n",
       "      <td>InChI=1/C18H14N6O3/c1-23-10-15(24(26)27)16(22-...</td>\n",
       "      <td>O=C(NC=1C=C2N=C(NC2=CC1)C=3C=CC=CC3)C4=NN(C=C4...</td>\n",
       "      <td>NaN</td>\n",
       "    </tr>\n",
       "    <tr>\n",
       "      <th>3</th>\n",
       "      <td>AAABHMIRDIOYOK-NPVYFSBINA-N</td>\n",
       "      <td>CHEMBL1527551</td>\n",
       "      <td>19885</td>\n",
       "      <td>A</td>\n",
       "      <td>5.35000</td>\n",
       "      <td>chembl20</td>\n",
       "      <td>688759</td>\n",
       "      <td>10090</td>\n",
       "      <td>RORC</td>\n",
       "      <td>3770</td>\n",
       "      <td>InChI=1/C18H14N6O3/c1-23-10-15(24(26)27)16(22-...</td>\n",
       "      <td>O=C(NC=1C=C2N=C(NC2=CC1)C=3C=CC=CC3)C4=NN(C=C4...</td>\n",
       "      <td>NaN</td>\n",
       "    </tr>\n",
       "    <tr>\n",
       "      <th>4</th>\n",
       "      <td>AAABHMIRDIOYOK-NPVYFSBINA-N</td>\n",
       "      <td>CHEMBL1527551</td>\n",
       "      <td>216</td>\n",
       "      <td>N</td>\n",
       "      <td>4.40000</td>\n",
       "      <td>chembl20</td>\n",
       "      <td>688238</td>\n",
       "      <td>9606</td>\n",
       "      <td>ALDH1A1</td>\n",
       "      <td>143</td>\n",
       "      <td>InChI=1/C18H14N6O3/c1-23-10-15(24(26)27)16(22-...</td>\n",
       "      <td>O=C(NC=1C=C2N=C(NC2=CC1)C=3C=CC=CC3)C4=NN(C=C4...</td>\n",
       "      <td>NaN</td>\n",
       "    </tr>\n",
       "  </tbody>\n",
       "</table>\n",
       "</div>"
      ],
      "text/plain": [
       "                Ambit_InchiKey Original_Entry_ID  Entrez_ID Activity_Flag  \\\n",
       "0  AAAAZQPHATYWOK-YRBRRWAQNA-N          11399331       2064             A   \n",
       "1  AAAAZQPHATYWOK-YRBRRWAQNA-N      CHEMBL175513       1956             A   \n",
       "2  AAABHMIRDIOYOK-NPVYFSBINA-N     CHEMBL1527551      10919             N   \n",
       "3  AAABHMIRDIOYOK-NPVYFSBINA-N     CHEMBL1527551      19885             A   \n",
       "4  AAABHMIRDIOYOK-NPVYFSBINA-N     CHEMBL1527551        216             N   \n",
       "\n",
       "     pXC50        DB  Original_Assay_ID  Tax_ID Gene_Symbol Ortholog_Group  \\\n",
       "0  7.19382   pubchem             248914    9606       ERBB2           1346   \n",
       "1  6.73000  chembl20             312997    9606        EGFR           1260   \n",
       "2  4.55000  chembl20             737344    9606       EHMT2           6822   \n",
       "3  5.35000  chembl20             688759   10090        RORC           3770   \n",
       "4  4.40000  chembl20             688238    9606     ALDH1A1            143   \n",
       "\n",
       "                                               InChI  \\\n",
       "0  InChI=1/C32H29ClN6O3S/c1-4-41-28-16-25-22(15-2...   \n",
       "1  InChI=1/C32H29ClN6O3S/c1-4-41-28-16-25-22(15-2...   \n",
       "2  InChI=1/C18H14N6O3/c1-23-10-15(24(26)27)16(22-...   \n",
       "3  InChI=1/C18H14N6O3/c1-23-10-15(24(26)27)16(22-...   \n",
       "4  InChI=1/C18H14N6O3/c1-23-10-15(24(26)27)16(22-...   \n",
       "\n",
       "                                              SMILES updated  \n",
       "0  ClC=1C=C(NC=2C=3C(N=CC2C#N)=CC(OCC)=C(NC(=O)/C...     NaN  \n",
       "1  C1=2C(=C(C#N)C=NC1=CC(=C(C2)NC(/C=C/CN(C)C)=O)...     NaN  \n",
       "2  O=C(NC=1C=C2N=C(NC2=CC1)C=3C=CC=CC3)C4=NN(C=C4...     NaN  \n",
       "3  O=C(NC=1C=C2N=C(NC2=CC1)C=3C=CC=CC3)C4=NN(C=C4...     NaN  \n",
       "4  O=C(NC=1C=C2N=C(NC2=CC1)C=3C=CC=CC3)C4=NN(C=C4...     NaN  "
      ]
     },
     "execution_count": 10,
     "metadata": {},
     "output_type": "execute_result"
    }
   ],
   "source": [
    "# read in dataset file\n",
    "excape_db_path = project_config.DATA_DIR / \"pubchem.chembl.dataset4publication_inchi_smiles_v2.tsv\"\n",
    "excape_db = pd.read_csv(excape_db_path, sep='\\t', header=0, index_col=False)\n",
    "excape_db.head()"
   ]
  },
  {
   "cell_type": "markdown",
   "metadata": {},
   "source": [
    "From the ExCAPE-DB abstract:\n",
    "> \"Chemogenomics data generally refers to the activity data of chemical compounds on an array of protein targets and represents an important source of information for building in silico target prediction models. The increasing volume of chemogenomics data offers exciting opportunities to build models based on Big Data. Preparing a high quality data set is a vital step in realizing this goal and this work aims to compile such a comprehensive chemogenomics dataset. This dataset comprises over 70 million SAR data points from publicly available databases (PubChem and ChEMBL) including structure, target information and activity annotations. Our aspiration is to create a useful chemogenomics resource reflecting industry-scale data not only for building predictive models of in silico polypharmacology and off-target effects but also for the validation of cheminformatics approaches in general.\"\n",
    "\n",
    "We inspect the data and generate a binding affinity dataset for protein targets of interest."
   ]
  },
  {
   "cell_type": "code",
   "execution_count": 27,
   "metadata": {},
   "outputs": [
    {
     "name": "stdout",
     "output_type": "stream",
     "text": [
      "Number of active molecules:  8323\n",
      "Number of inactive molecules:  343206\n"
     ]
    }
   ],
   "source": [
    "# set target of interest to dopamine receptor D2 (DRD2)\n",
    "target = 'DRD2'\n",
    "\n",
    "# find molecules that bind to target of interest\n",
    "target_df = excape_db[excape_db['Gene_Symbol'] == target]\n",
    "\n",
    "# drop duplicates\n",
    "target_df = target_df.drop_duplicates(subset=['SMILES'])\n",
    "\n",
    "# filter for pIC50 > 5 as active and pIC50 < 5 as inactive\n",
    "target_active = target_df[target_df['Activity_Flag'] == 'A']\n",
    "target_inactive = target_df[target_df['Activity_Flag'] == 'N']\n",
    "\n",
    "# print number of active and inactive molecules\n",
    "print(\"Number of active molecules: \", len(target_active))\n",
    "print(\"Number of inactive molecules: \", len(target_inactive))"
   ]
  },
  {
   "cell_type": "markdown",
   "metadata": {},
   "source": [
    "Generate binding affinity dataset."
   ]
  },
  {
   "cell_type": "code",
   "execution_count": 28,
   "metadata": {},
   "outputs": [
    {
     "data": {
      "text/html": [
       "<div>\n",
       "<style scoped>\n",
       "    .dataframe tbody tr th:only-of-type {\n",
       "        vertical-align: middle;\n",
       "    }\n",
       "\n",
       "    .dataframe tbody tr th {\n",
       "        vertical-align: top;\n",
       "    }\n",
       "\n",
       "    .dataframe thead th {\n",
       "        text-align: right;\n",
       "    }\n",
       "</style>\n",
       "<table border=\"1\" class=\"dataframe\">\n",
       "  <thead>\n",
       "    <tr style=\"text-align: right;\">\n",
       "      <th></th>\n",
       "      <th>SMILES</th>\n",
       "      <th>DRD2_activity</th>\n",
       "    </tr>\n",
       "  </thead>\n",
       "  <tbody>\n",
       "    <tr>\n",
       "      <th>0</th>\n",
       "      <td>ClC1=CC(NC(=O)CSC2=NN(C3=CC=CC=C3)C=N2)=CC=C1OC</td>\n",
       "      <td>0</td>\n",
       "    </tr>\n",
       "    <tr>\n",
       "      <th>1</th>\n",
       "      <td>ClC=1C(=CC(NC(=O)CN(C(O)C2=CN(C(O)=C2)CC=3OC=C...</td>\n",
       "      <td>0</td>\n",
       "    </tr>\n",
       "    <tr>\n",
       "      <th>2</th>\n",
       "      <td>O\\1C=2C(C=C(/C1=N/CC3=CC=CC=C3)C(=O)N)=CC=CC2</td>\n",
       "      <td>0</td>\n",
       "    </tr>\n",
       "    <tr>\n",
       "      <th>3</th>\n",
       "      <td>N1(CCN(CC1)C=2C=CC=C(C2)C(F)(F)F)CCCOC3=CC=CC=...</td>\n",
       "      <td>0</td>\n",
       "    </tr>\n",
       "    <tr>\n",
       "      <th>4</th>\n",
       "      <td>C=1(Cl)C(=CC=2[C@@H]3[C@@H](N(CCC2C1)C)CCC4=C3...</td>\n",
       "      <td>1</td>\n",
       "    </tr>\n",
       "  </tbody>\n",
       "</table>\n",
       "</div>"
      ],
      "text/plain": [
       "                                              SMILES  DRD2_activity\n",
       "0    ClC1=CC(NC(=O)CSC2=NN(C3=CC=CC=C3)C=N2)=CC=C1OC              0\n",
       "1  ClC=1C(=CC(NC(=O)CN(C(O)C2=CN(C(O)=C2)CC=3OC=C...              0\n",
       "2      O\\1C=2C(C=C(/C1=N/CC3=CC=CC=C3)C(=O)N)=CC=CC2              0\n",
       "3  N1(CCN(CC1)C=2C=CC=C(C2)C(F)(F)F)CCCOC3=CC=CC=...              0\n",
       "4  C=1(Cl)C(=CC=2[C@@H]3[C@@H](N(CCC2C1)C)CCC4=C3...              1"
      ]
     },
     "execution_count": 28,
     "metadata": {},
     "output_type": "execute_result"
    }
   ],
   "source": [
    "# randomly sample 100000 molecules from the inactive molecules\n",
    "target_inactive_sample = target_inactive.sample(n=100000, random_state=42)\n",
    "\n",
    "# combine active and inactive molecules\n",
    "target_training = pd.concat([target_active, target_inactive_sample])\n",
    "\n",
    "# map active and inactive to 1 and 0\n",
    "target_training['Activity_Flag'] = target_training['Activity_Flag'].map({'A': 1, 'N': 0})\n",
    "\n",
    "# scramble the dataset\n",
    "target_training = target_training.sample(frac=1, random_state=42).reset_index(drop=True)\n",
    "\n",
    "# subset for SMILES and activity flag\n",
    "target_training = target_training[['SMILES', 'Activity_Flag']].reset_index(drop=True)\n",
    "\n",
    "# rename columns\n",
    "activity_name = target + '_activity'\n",
    "target_training.columns = ['SMILES', activity_name]\n",
    "target_training.head()"
   ]
  },
  {
   "cell_type": "markdown",
   "metadata": {},
   "source": [
    "Save file to data directory."
   ]
  },
  {
   "cell_type": "code",
   "execution_count": 29,
   "metadata": {},
   "outputs": [
    {
     "name": "stdout",
     "output_type": "stream",
     "text": [
      "0    99998\n",
      "1     8037\n",
      "Name: DRD2_activity, dtype: int64\n"
     ]
    }
   ],
   "source": [
    "# save file\n",
    "target_training.to_csv(project_config.DATA_DIR / str(target + '_binding_data.csv'), index=False)\n",
    "\n",
    "# print value counts\n",
    "print(target_training[activity_name].value_counts())"
   ]
  }
 ],
 "metadata": {
  "kernelspec": {
   "display_name": "Python 3 (ipykernel)",
   "language": "python",
   "name": "python3"
  },
  "language_info": {
   "codemirror_mode": {
    "name": "ipython",
    "version": 3
   },
   "file_extension": ".py",
   "mimetype": "text/x-python",
   "name": "python",
   "nbconvert_exporter": "python",
   "pygments_lexer": "ipython3",
   "version": "3.10.12"
  }
 },
 "nbformat": 4,
 "nbformat_minor": 2
}
