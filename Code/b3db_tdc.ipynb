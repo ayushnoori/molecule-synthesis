{
 "cells": [
  {
   "cell_type": "markdown",
   "metadata": {},
   "source": [
    "# Read and Process B3DB Data\n",
    "\n",
    "First, load libraries."
   ]
  },
  {
   "cell_type": "code",
   "execution_count": 35,
   "metadata": {},
   "outputs": [],
   "source": [
    "import numpy as np\n",
    "import pandas as pd\n",
    "\n",
    "# path manipulation\n",
    "from pathlib import Path\n",
    "\n",
    "# import custom modules\n",
    "import sys\n",
    "sys.path.append('..')\n",
    "import project_config"
   ]
  },
  {
   "cell_type": "markdown",
   "metadata": {},
   "source": [
    "Read and process B3DB data for inclusion in the Therapeutics Data Commons."
   ]
  },
  {
   "cell_type": "code",
   "execution_count": 30,
   "metadata": {},
   "outputs": [
    {
     "name": "stdout",
     "output_type": "stream",
     "text": [
      "Classification dimensions: (7807, 3)\n",
      "Regression dimensions: (1058, 3)\n"
     ]
    }
   ],
   "source": [
    "# read B3DB data from URLs\n",
    "# classification: https://github.com/theochem/B3DB/blob/main/B3DB/B3DB_classification.tsv\n",
    "# regression: https://github.com/theochem/B3DB/blob/main/B3DB/B3DB_regression.tsv\n",
    "\n",
    "# read classification data\n",
    "classification_url = 'https://raw.githubusercontent.com/theochem/B3DB/main/B3DB/B3DB_classification.tsv'\n",
    "classification_df = pd.read_csv(classification_url, sep='\\t', header=0)\n",
    "\n",
    "# read regression data\n",
    "regression_url = 'https://raw.githubusercontent.com/theochem/B3DB/main/B3DB/B3DB_regression.tsv'\n",
    "regression_df = pd.read_csv(regression_url, sep='\\t', header=0)\n",
    "\n",
    "# subset compound_name, SMILES, and logBB\n",
    "classification_df = classification_df[['IUPAC_name', 'SMILES', 'BBB+/BBB-']]\n",
    "regression_df = regression_df[['IUPAC_name', 'SMILES', 'logBB']]\n",
    "\n",
    "# rename columns\n",
    "classification_df.columns = ['Drug_ID', 'Drug', 'Y']\n",
    "regression_df.columns = ['Drug_ID', 'Drug', 'Y']\n",
    "\n",
    "# map classification to BBB-: 0 and BBB+: 1\n",
    "classification_df['Y'] = classification_df['Y'].map({'BBB-': 0, 'BBB+': 1})\n",
    "\n",
    "# print dimensions\n",
    "print('Classification dimensions:', classification_df.shape)\n",
    "print('Regression dimensions:', regression_df.shape)"
   ]
  },
  {
   "cell_type": "markdown",
   "metadata": {},
   "source": [
    "Filter data to drop duplicates and NA values."
   ]
  },
  {
   "cell_type": "code",
   "execution_count": 31,
   "metadata": {},
   "outputs": [
    {
     "name": "stdout",
     "output_type": "stream",
     "text": [
      "Classification dimensions: (6167, 3)\n",
      "Regression dimensions: (942, 3)\n"
     ]
    }
   ],
   "source": [
    "# drop NA values in Drug_ID\n",
    "classification_df = classification_df.dropna(subset=['Drug_ID'])\n",
    "regression_df = regression_df.dropna(subset=['Drug_ID'])\n",
    "\n",
    "# drop duplicates in Drug_ID\n",
    "classification_df = classification_df.drop_duplicates(subset=['Drug_ID'])\n",
    "regression_df = regression_df.drop_duplicates(subset=['Drug_ID'])\n",
    "\n",
    "# reset index\n",
    "classification_df = classification_df.reset_index(drop=True)\n",
    "regression_df = regression_df.reset_index(drop=True)\n",
    "\n",
    "# print dimensions\n",
    "print('Classification dimensions:', classification_df.shape)\n",
    "print('Regression dimensions:', regression_df.shape)"
   ]
  },
  {
   "cell_type": "markdown",
   "metadata": {},
   "source": [
    "Save data to file."
   ]
  },
  {
   "cell_type": "code",
   "execution_count": 37,
   "metadata": {},
   "outputs": [],
   "source": [
    "# save to file\n",
    "classification_df.to_csv(project_config.DATA_DIR / 'tdc' / 'b3db_classification.csv', index=False)\n",
    "regression_df.to_csv(project_config.DATA_DIR / 'tdc' / 'b3db_regression.csv', index=False)"
   ]
  }
 ],
 "metadata": {
  "kernelspec": {
   "display_name": "Python 3 (ipykernel)",
   "language": "python",
   "name": "python3"
  },
  "language_info": {
   "codemirror_mode": {
    "name": "ipython",
    "version": 3
   },
   "file_extension": ".py",
   "mimetype": "text/x-python",
   "name": "python",
   "nbconvert_exporter": "python",
   "pygments_lexer": "ipython3",
   "version": "3.10.12"
  }
 },
 "nbformat": 4,
 "nbformat_minor": 2
}
