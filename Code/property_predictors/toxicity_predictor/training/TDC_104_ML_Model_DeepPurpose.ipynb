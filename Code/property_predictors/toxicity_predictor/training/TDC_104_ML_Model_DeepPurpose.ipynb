{
 "cells": [
  {
   "cell_type": "markdown",
   "metadata": {},
   "source": [
    "## Tutorial 104: Generate 21 ADME Predictors with 10 Lines of Code\n",
    "\n",
    "[Kexin](https://twitter.com/KexinHuang5)\n",
    "\n",
    "In the previous set of tutorials, hopefully, you are now familiarized with TDC. In this tutorial, we show through examples how to use TDC for fast ML model prototyping using DeepPurpose. Let's start introducing what is DeepPurpose.\n",
    "\n",
    "### DeepPurpose Overview\n",
    "DeepPurpose is a scikit learn style Deep Learning Based Molecular Modeling and Prediction Toolkit on Drug-Target Interaction Prediction, Compound Property Prediction, Protein-Protein Interaction Prediction, and Protein Function prediction. Using DeepPurpose, we can rapidly build model prototypes for various drug discovery tasks covered in TDC, such as ADME, Tox, HTS, Developability prediction, DTI, DDI, PPI, Antibody Affinity predictions. \n",
    "\n",
    "Note that DeepPurpose is developed by two of the core teams in TDC, Kexin and Tianfan, and it is now published in Bioinformatics. To start with this tutorial, please follow [DeepPurpose instructions](https://github.com/kexinhuang12345/DeepPurpose#install--usage) to set up the necessary packages. DeepPurpose also provides [tutorials](https://github.com/kexinhuang12345/DeepPurpose/blob/master/Tutorial_1_DTI_Prediction.ipynb) for you to familiarize with it. \n",
    "\n",
    "To install DeepPurpose, in your terminal, do the following:\n",
    "\n",
    "```bash\n",
    "conda create -n DeepPurpose python=3.6\n",
    "conda activate DeepPurpose\n",
    "conda install -c conda-forge rdkit\n",
    "pip install git+https://github.com/bp-kelley/descriptastorus\n",
    "pip install DeepPurpose\n",
    "pip install PyTDC --upgrade\n",
    "```\n",
    "\n",
    "And then open this jupyter notebook using this conda environment.\n",
    "\n",
    "We assume now you have set up the right environment. Now, we show you how to build an ADME predictor using Message Passing Neural Network (MPNN)! \n",
    "\n",
    "### Predicting HIA using MPNN with 10 Lines of Code\n",
    "\n",
    "First, let's load DeepPurpose and TDC:"
   ]
  },
  {
   "cell_type": "code",
   "execution_count": 18,
   "metadata": {},
   "outputs": [],
   "source": [
    "from DeepPurpose import utils, CompoundPred\n",
    "from tdc.single_pred import ADME"
   ]
  },
  {
   "cell_type": "markdown",
   "metadata": {},
   "source": [
    "Now, you can get the HIA dataset from TDC. HIA is from ADME task from Single-instance prediction and we want to predict whether or not can a compound be absorped in human intestinal, i.e. given SMILES X, predict 1/0. Note that for drug property prediction, DeepPurpose takes in an array of drug SMILES string and an array of labels. You could access that directly by setting the `get_data(format = 'dict')`:"
   ]
  },
  {
   "cell_type": "code",
   "execution_count": 19,
   "metadata": {},
   "outputs": [
    {
     "name": "stderr",
     "output_type": "stream",
     "text": [
      "Found local copy...\n",
      "Loading...\n",
      "Done!\n"
     ]
    }
   ],
   "source": [
    "data = ADME(name = 'HIA_Hou').get_data(format = 'dict')\n",
    "X, y = data['Drug'], data['Y']"
   ]
  },
  {
   "cell_type": "markdown",
   "metadata": {},
   "source": [
    "or for simplicity. We also provide a DeepPurpose format, where you can directly get the correct input data:"
   ]
  },
  {
   "cell_type": "code",
   "execution_count": 20,
   "metadata": {},
   "outputs": [
    {
     "name": "stderr",
     "output_type": "stream",
     "text": [
      "Found local copy...\n",
      "Loading...\n",
      "Done!\n"
     ]
    }
   ],
   "source": [
    "X, y = ADME(name = 'HIA_Hou').get_data(format = 'DeepPurpose')"
   ]
  },
  {
   "cell_type": "markdown",
   "metadata": {},
   "source": [
    "DeepPurpose provides 8 encoders for compound, ranging from MLP on classic cheminformatics fingerprint such as Morgan, RDKit2D to deep learning models such as CNN, transformer, and MPNN. To specify the encoder, simply types the encoder name. Here, we use MPNN as an example:"
   ]
  },
  {
   "cell_type": "code",
   "execution_count": 21,
   "metadata": {},
   "outputs": [],
   "source": [
    "drug_encoding = 'MPNN'"
   ]
  },
  {
   "cell_type": "markdown",
   "metadata": {},
   "source": [
    "Now, we encode the data into the specified format, using `utils.data_process` function. It specifies train/validation/test split fractions, and random seed to ensure same data splits for reproducibility. **We have made DeepPurpose to accomodate the TDC benchmark split.** Simply type 'TDC' in the random seed will generate the same split as in TDC split function. The function outputs train, val, test pandas dataframes."
   ]
  },
  {
   "cell_type": "code",
   "execution_count": 22,
   "metadata": {},
   "outputs": [
    {
     "name": "stdout",
     "output_type": "stream",
     "text": [
      "Drug Property Prediction Mode...\n",
      "in total: 578 drugs\n",
      "encoding drug...\n",
      "unique drugs: 578\n",
      "Done.\n"
     ]
    }
   ],
   "source": [
    "train, val, test = utils.data_process(X_drug = X, \n",
    "                                      y = y, \n",
    "                                      drug_encoding = drug_encoding,\n",
    "                                      random_seed = 'TDC')"
   ]
  },
  {
   "cell_type": "code",
   "execution_count": 29,
   "metadata": {},
   "outputs": [
    {
     "data": {
      "text/html": [
       "<div>\n",
       "<style scoped>\n",
       "    .dataframe tbody tr th:only-of-type {\n",
       "        vertical-align: middle;\n",
       "    }\n",
       "\n",
       "    .dataframe tbody tr th {\n",
       "        vertical-align: top;\n",
       "    }\n",
       "\n",
       "    .dataframe thead th {\n",
       "        text-align: right;\n",
       "    }\n",
       "</style>\n",
       "<table border=\"1\" class=\"dataframe\">\n",
       "  <thead>\n",
       "    <tr style=\"text-align: right;\">\n",
       "      <th></th>\n",
       "      <th>SMILES</th>\n",
       "      <th>Label</th>\n",
       "      <th>drug_encoding</th>\n",
       "    </tr>\n",
       "  </thead>\n",
       "  <tbody>\n",
       "    <tr>\n",
       "      <th>0</th>\n",
       "      <td>Cn1c(CN2CCN(c3ccc(Cl)cc3)CC2)nc2ccccc21</td>\n",
       "      <td>3.54</td>\n",
       "      <td>[[[tensor(1.), tensor(0.), tensor(0.), tensor(...</td>\n",
       "    </tr>\n",
       "    <tr>\n",
       "      <th>1</th>\n",
       "      <td>O=C(NC1Cc2ccccc2N(C[C@@H](O)CO)C1=O)c1cc2cc(Cl...</td>\n",
       "      <td>3.37</td>\n",
       "      <td>[[[tensor(0.), tensor(0.), tensor(1.), tensor(...</td>\n",
       "    </tr>\n",
       "  </tbody>\n",
       "</table>\n",
       "</div>"
      ],
      "text/plain": [
       "                                              SMILES  Label  \\\n",
       "0            Cn1c(CN2CCN(c3ccc(Cl)cc3)CC2)nc2ccccc21   3.54   \n",
       "1  O=C(NC1Cc2ccccc2N(C[C@@H](O)CO)C1=O)c1cc2cc(Cl...   3.37   \n",
       "\n",
       "                                       drug_encoding  \n",
       "0  [[[tensor(1.), tensor(0.), tensor(0.), tensor(...  \n",
       "1  [[[tensor(0.), tensor(0.), tensor(1.), tensor(...  "
      ]
     },
     "execution_count": 29,
     "metadata": {},
     "output_type": "execute_result"
    }
   ],
   "source": [
    "train.head(2)"
   ]
  },
  {
   "cell_type": "markdown",
   "metadata": {},
   "source": [
    "After we have the dataset, you can set up the model configuration such as dimension, # of layers, optimization parameters and etc. As an example, we set the following configurations (we set train epochs to be 3 here for demonstration purpose):"
   ]
  },
  {
   "cell_type": "code",
   "execution_count": 30,
   "metadata": {},
   "outputs": [],
   "source": [
    "config = utils.generate_config(drug_encoding = drug_encoding, \n",
    "                         train_epoch = 30, \n",
    "                         LR = 0.001, \n",
    "                         batch_size = 128,\n",
    "                         mpnn_hidden_size = 32,\n",
    "                         mpnn_depth = 2\n",
    "                        )"
   ]
  },
  {
   "cell_type": "markdown",
   "metadata": {},
   "source": [
    "Now, you need to initialize the model. You can also load from pretrained model by `CompoundPred.model_pretrained(path_dir = PATH)`. Here, we initialize a new model:"
   ]
  },
  {
   "cell_type": "code",
   "execution_count": 31,
   "metadata": {},
   "outputs": [],
   "source": [
    "model = CompoundPred.model_initialize(**config)"
   ]
  },
  {
   "cell_type": "markdown",
   "metadata": {},
   "source": [
    "That's it. Now, you can train it!"
   ]
  },
  {
   "cell_type": "code",
   "execution_count": 32,
   "metadata": {},
   "outputs": [
    {
     "name": "stdout",
     "output_type": "stream",
     "text": [
      "Let's use CPU/s!\n",
      "--- Data Preparation ---\n",
      "--- Go for Training ---\n",
      "Training at Epoch 1 iteration 0 with loss 6.02993. Total time 0.0 hours\n",
      "Validation at Epoch 1 , MSE: 1.58065 , Pearson Correlation: 0.04801 with p-value: 3.26E-01 , Concordance Index: 0.49468\n",
      "Training at Epoch 2 iteration 0 with loss 1.14029. Total time 0.00055 hours\n",
      "Validation at Epoch 2 , MSE: 1.48749 , Pearson Correlation: 0.02144 with p-value: 6.61E-01 , Concordance Index: 0.51072\n",
      "Training at Epoch 3 iteration 0 with loss 1.43434. Total time 0.00111 hours\n",
      "Validation at Epoch 3 , MSE: 1.44865 , Pearson Correlation: 0.05569 with p-value: 2.55E-01 , Concordance Index: 0.54288\n",
      "Training at Epoch 4 iteration 0 with loss 1.73074. Total time 0.00166 hours\n",
      "Validation at Epoch 4 , MSE: 1.45726 , Pearson Correlation: 0.03394 with p-value: 4.88E-01 , Concordance Index: 0.56046\n",
      "Training at Epoch 5 iteration 0 with loss 1.45207. Total time 0.00222 hours\n",
      "Validation at Epoch 5 , MSE: 1.51284 , Pearson Correlation: 0.25480 with p-value: 1.20E-07 , Concordance Index: 0.58174\n",
      "Training at Epoch 6 iteration 0 with loss 1.32367. Total time 0.00277 hours\n",
      "Validation at Epoch 6 , MSE: 1.48972 , Pearson Correlation: 0.27685 with p-value: 7.92E-09 , Concordance Index: 0.58256\n",
      "Training at Epoch 7 iteration 0 with loss 1.59741. Total time 0.00333 hours\n",
      "Validation at Epoch 7 , MSE: 1.38696 , Pearson Correlation: 0.31295 with p-value: 5.38E-11 , Concordance Index: 0.59433\n",
      "Training at Epoch 8 iteration 0 with loss 1.32437. Total time 0.00361 hours\n",
      "Validation at Epoch 8 , MSE: 1.37933 , Pearson Correlation: 0.28733 with p-value: 2.00E-09 , Concordance Index: 0.59117\n",
      "Training at Epoch 9 iteration 0 with loss 1.10419. Total time 0.00444 hours\n",
      "Validation at Epoch 9 , MSE: 1.34459 , Pearson Correlation: 0.32298 with p-value: 1.18E-11 , Concordance Index: 0.60513\n",
      "Training at Epoch 10 iteration 0 with loss 1.52836. Total time 0.00472 hours\n",
      "Validation at Epoch 10 , MSE: 1.29672 , Pearson Correlation: 0.33806 with p-value: 1.09E-12 , Concordance Index: 0.61221\n",
      "Training at Epoch 11 iteration 0 with loss 1.30933. Total time 0.00527 hours\n",
      "Validation at Epoch 11 , MSE: 1.32240 , Pearson Correlation: 0.34993 with p-value: 1.53E-13 , Concordance Index: 0.61525\n",
      "Training at Epoch 12 iteration 0 with loss 1.68830. Total time 0.00583 hours\n",
      "Validation at Epoch 12 , MSE: 1.24970 , Pearson Correlation: 0.37618 with p-value: 1.44E-15 , Concordance Index: 0.62310\n",
      "Training at Epoch 13 iteration 0 with loss 1.26831. Total time 0.00638 hours\n",
      "Validation at Epoch 13 , MSE: 1.31157 , Pearson Correlation: 0.37599 with p-value: 1.50E-15 , Concordance Index: 0.62417\n",
      "Training at Epoch 14 iteration 0 with loss 1.12737. Total time 0.00694 hours\n",
      "Validation at Epoch 14 , MSE: 1.27719 , Pearson Correlation: 0.39872 with p-value: 1.86E-17 , Concordance Index: 0.63010\n",
      "Training at Epoch 15 iteration 0 with loss 1.28969. Total time 0.0075 hours\n",
      "Validation at Epoch 15 , MSE: 1.40122 , Pearson Correlation: 0.40700 with p-value: 3.45E-18 , Concordance Index: 0.63158\n",
      "Training at Epoch 16 iteration 0 with loss 1.29647. Total time 0.00805 hours\n",
      "Validation at Epoch 16 , MSE: 1.24978 , Pearson Correlation: 0.38783 with p-value: 1.59E-16 , Concordance Index: 0.63017\n",
      "Training at Epoch 17 iteration 0 with loss 1.28405. Total time 0.00861 hours\n",
      "Validation at Epoch 17 , MSE: 1.19723 , Pearson Correlation: 0.41606 with p-value: 5.17E-19 , Concordance Index: 0.63616\n",
      "Training at Epoch 18 iteration 0 with loss 1.14159. Total time 0.00916 hours\n",
      "Validation at Epoch 18 , MSE: 1.20027 , Pearson Correlation: 0.41620 with p-value: 5.02E-19 , Concordance Index: 0.63518\n",
      "Training at Epoch 19 iteration 0 with loss 1.02703. Total time 0.00972 hours\n",
      "Validation at Epoch 19 , MSE: 1.23398 , Pearson Correlation: 0.40833 with p-value: 2.62E-18 , Concordance Index: 0.63703\n",
      "Training at Epoch 20 iteration 0 with loss 1.38474. Total time 0.01027 hours\n",
      "Validation at Epoch 20 , MSE: 1.19936 , Pearson Correlation: 0.41810 with p-value: 3.35E-19 , Concordance Index: 0.63750\n",
      "Training at Epoch 21 iteration 0 with loss 1.04275. Total time 0.01083 hours\n",
      "Validation at Epoch 21 , MSE: 1.19894 , Pearson Correlation: 0.41612 with p-value: 5.10E-19 , Concordance Index: 0.63572\n",
      "Training at Epoch 22 iteration 0 with loss 1.08553. Total time 0.01138 hours\n",
      "Validation at Epoch 22 , MSE: 1.32952 , Pearson Correlation: 0.42837 with p-value: 3.57E-20 , Concordance Index: 0.63918\n",
      "Training at Epoch 23 iteration 0 with loss 1.18988. Total time 0.01194 hours\n",
      "Validation at Epoch 23 , MSE: 1.21332 , Pearson Correlation: 0.41742 with p-value: 3.87E-19 , Concordance Index: 0.63447\n",
      "Training at Epoch 24 iteration 0 with loss 1.07524. Total time 0.0125 hours\n",
      "Validation at Epoch 24 , MSE: 1.19088 , Pearson Correlation: 0.42757 with p-value: 4.26E-20 , Concordance Index: 0.63682\n",
      "Training at Epoch 25 iteration 0 with loss 1.38177. Total time 0.01305 hours\n",
      "Validation at Epoch 25 , MSE: 1.25942 , Pearson Correlation: 0.43368 with p-value: 1.09E-20 , Concordance Index: 0.63947\n",
      "Training at Epoch 26 iteration 0 with loss 1.25575. Total time 0.01361 hours\n",
      "Validation at Epoch 26 , MSE: 1.26407 , Pearson Correlation: 0.42716 with p-value: 4.67E-20 , Concordance Index: 0.63729\n",
      "Training at Epoch 27 iteration 0 with loss 1.05060. Total time 0.01416 hours\n",
      "Validation at Epoch 27 , MSE: 1.17637 , Pearson Correlation: 0.43099 with p-value: 1.99E-20 , Concordance Index: 0.64005\n",
      "Training at Epoch 28 iteration 0 with loss 1.06627. Total time 0.01472 hours\n",
      "Validation at Epoch 28 , MSE: 1.23365 , Pearson Correlation: 0.43637 with p-value: 5.93E-21 , Concordance Index: 0.63967\n",
      "Training at Epoch 29 iteration 0 with loss 1.12749. Total time 0.01527 hours\n",
      "Validation at Epoch 29 , MSE: 1.17509 , Pearson Correlation: 0.43829 with p-value: 3.83E-21 , Concordance Index: 0.64193\n",
      "Training at Epoch 30 iteration 0 with loss 0.92366. Total time 0.01583 hours\n",
      "Validation at Epoch 30 , MSE: 1.17409 , Pearson Correlation: 0.44114 with p-value: 1.98E-21 , Concordance Index: 0.64452\n",
      "--- Go for Testing ---\n",
      "Testing MSE: 1.1937837067603934 , Pearson Correlation: 0.4678636925613744 with p-value: 6.50E-47 , Concordance Index: 0.6560216821003039\n",
      "--- Training Finished ---\n"
     ]
    },
    {
     "data": {
      "image/png": "[encoded data removed]",
      "text/plain": [
       "<Figure size 640x480 with 1 Axes>"
      ]
     },
     "metadata": {},
     "output_type": "display_data"
    }
   ],
   "source": [
    "# Training\n",
    "model.train(train, val, test)"
   ]
  },
  {
   "cell_type": "markdown",
   "metadata": {},
   "source": [
    "In less than 1 minute with a CPU, you can already get pretty good performance! Now, you can save the model by typing:"
   ]
  },
  {
   "cell_type": "code",
   "execution_count": 33,
   "metadata": {},
   "outputs": [],
   "source": [
    "model.save_model('./tutorial_model')"
   ]
  },
  {
   "cell_type": "markdown",
   "metadata": {},
   "source": [
    "You may already notice that the whole thing can be streamlined for all the ADME tasks in TDC by simply specifying different dataset names. To generate a full set of ADME predictors, you can do:"
   ]
  },
  {
   "cell_type": "code",
   "execution_count": 28,
   "metadata": {},
   "outputs": [
    {
     "name": "stderr",
     "output_type": "stream",
     "text": [
      "Found local copy...\n",
      "Loading...\n",
      "Done!\n"
     ]
    },
    {
     "name": "stdout",
     "output_type": "stream",
     "text": [
      "Drug Property Prediction Mode...\n",
      "in total: 4200 drugs\n",
      "encoding drug...\n",
      "unique drugs: 4200\n",
      "Done.\n",
      "Let's use CPU/s!\n",
      "--- Data Preparation ---\n",
      "--- Go for Training ---\n",
      "Training at Epoch 1 iteration 0 with loss 6.77964. Total time 0.0 hours\n",
      "Validation at Epoch 1 , MSE: 1.78965 , Pearson Correlation: 0.00116 with p-value: 9.81E-01 , Concordance Index: 0.48433\n",
      "Training at Epoch 2 iteration 0 with loss 1.57240. Total time 0.00055 hours\n",
      "Validation at Epoch 2 , MSE: 1.53221 , Pearson Correlation: -0.0770 with p-value: 1.15E-01 , Concordance Index: 0.49563\n",
      "Training at Epoch 3 iteration 0 with loss 1.64366. Total time 0.00083 hours\n",
      "Validation at Epoch 3 , MSE: 1.50963 , Pearson Correlation: -0.0672 with p-value: 1.69E-01 , Concordance Index: 0.50970\n",
      "Training at Epoch 4 iteration 0 with loss 1.37081. Total time 0.00138 hours\n",
      "Validation at Epoch 4 , MSE: 1.45045 , Pearson Correlation: 0.07211 with p-value: 1.40E-01 , Concordance Index: 0.53816\n",
      "Training at Epoch 5 iteration 0 with loss 1.47763. Total time 0.00194 hours\n"
     ]
    },
    {
     "name": "stderr",
     "output_type": "stream",
     "text": [
      "Found local copy...\n",
      "Loading...\n"
     ]
    },
    {
     "name": "stdout",
     "output_type": "stream",
     "text": [
      "Validation at Epoch 5 , MSE: 1.56846 , Pearson Correlation: 0.00632 with p-value: 8.97E-01 , Concordance Index: 0.54884\n",
      "--- Go for Testing ---\n",
      "Testing MSE: 1.5332316841618783 , Pearson Correlation: 0.054157025148481114 with p-value: 1.17E-01 , Concordance Index: 0.5273290740102485\n",
      "--- Training Finished ---\n"
     ]
    },
    {
     "name": "stderr",
     "output_type": "stream",
     "text": [
      "Done!\n"
     ]
    },
    {
     "name": "stdout",
     "output_type": "stream",
     "text": [
      "Drug Property Prediction Mode...\n",
      "in total: 9982 drugs\n",
      "encoding drug...\n",
      "unique drugs: 9982\n"
     ]
    },
    {
     "name": "stderr",
     "output_type": "stream",
     "text": [
      "[22:52:25] WARNING: not removing hydrogen atom without neighbors\n",
      "[22:52:25] WARNING: not removing hydrogen atom without neighbors\n",
      "[22:52:25] WARNING: not removing hydrogen atom without neighbors\n",
      "[22:52:26] WARNING: not removing hydrogen atom without neighbors\n",
      "[22:52:26] WARNING: not removing hydrogen atom without neighbors\n",
      "[22:52:26] WARNING: not removing hydrogen atom without neighbors\n",
      "[22:52:26] WARNING: not removing hydrogen atom without neighbors\n",
      "[22:52:26] WARNING: not removing hydrogen atom without neighbors\n",
      "[22:52:26] WARNING: not removing hydrogen atom without neighbors\n",
      "[22:52:26] WARNING: not removing hydrogen atom without neighbors\n",
      "[22:52:26] WARNING: not removing hydrogen atom without neighbors\n",
      "[22:52:26] WARNING: not removing hydrogen atom without neighbors\n"
     ]
    },
    {
     "ename": "Exception",
     "evalue": "Please increasing MAX_ATOM in line 26 utils.py, for example, MAX_ATOM=600 and reinstall it via 'python setup.py install'. The current setting is for small molecule. ",
     "output_type": "error",
     "traceback": [
      "\u001b[0;31m---------------------------------------------------------------------------\u001b[0m",
      "\u001b[0;31mAssertionError\u001b[0m                            Traceback (most recent call last)",
      "File \u001b[0;32m~/Documents/Harvard/Fall 2023/CS252R/molecule-synthesis/synthesis_env/lib/python3.11/site-packages/DeepPurpose/utils.py:291\u001b[0m, in \u001b[0;36msmiles2mpnnfeature\u001b[0;34m(smiles)\u001b[0m\n\u001b[1;32m    290\u001b[0m \u001b[39mtry\u001b[39;00m:\n\u001b[0;32m--> 291\u001b[0m \t\u001b[39massert\u001b[39;00m atoms_completion_num \u001b[39m>\u001b[39m\u001b[39m=\u001b[39m \u001b[39m0\u001b[39m \u001b[39mand\u001b[39;00m bonds_completion_num \u001b[39m>\u001b[39m\u001b[39m=\u001b[39m \u001b[39m0\u001b[39m\n\u001b[1;32m    292\u001b[0m \u001b[39mexcept\u001b[39;00m:\n",
      "\u001b[0;31mAssertionError\u001b[0m: ",
      "\nDuring handling of the above exception, another exception occurred:\n",
      "\u001b[0;31mException\u001b[0m                                 Traceback (most recent call last)",
      "\u001b[1;32m/Users/inakiarango/Documents/Harvard/Fall 2023/CS252R/molecule-synthesis/Code/property_predictors/deeppurpose_combined_predictor/training/TDC_104_ML_Model_DeepPurpose.ipynb Cell 21\u001b[0m line \u001b[0;36m7\n\u001b[1;32m      <a href='vscode-notebook-cell:/Users/inakiarango/Documents/Harvard/Fall%202023/CS252R/molecule-synthesis/Code/property_predictors/deeppurpose_combined_predictor/training/TDC_104_ML_Model_DeepPurpose.ipynb#X26sZmlsZQ%3D%3D?line=4'>5</a>\u001b[0m X, y \u001b[39m=\u001b[39m ADME(name \u001b[39m=\u001b[39m dataset_name)\u001b[39m.\u001b[39mget_data(\u001b[39mformat\u001b[39m \u001b[39m=\u001b[39m \u001b[39m'\u001b[39m\u001b[39mDeepPurpose\u001b[39m\u001b[39m'\u001b[39m)\n\u001b[1;32m      <a href='vscode-notebook-cell:/Users/inakiarango/Documents/Harvard/Fall%202023/CS252R/molecule-synthesis/Code/property_predictors/deeppurpose_combined_predictor/training/TDC_104_ML_Model_DeepPurpose.ipynb#X26sZmlsZQ%3D%3D?line=5'>6</a>\u001b[0m drug_encoding \u001b[39m=\u001b[39m \u001b[39m'\u001b[39m\u001b[39mMPNN\u001b[39m\u001b[39m'\u001b[39m\n\u001b[0;32m----> <a href='vscode-notebook-cell:/Users/inakiarango/Documents/Harvard/Fall%202023/CS252R/molecule-synthesis/Code/property_predictors/deeppurpose_combined_predictor/training/TDC_104_ML_Model_DeepPurpose.ipynb#X26sZmlsZQ%3D%3D?line=6'>7</a>\u001b[0m train, val, test \u001b[39m=\u001b[39m utils\u001b[39m.\u001b[39;49mdata_process(X_drug \u001b[39m=\u001b[39;49m X, \n\u001b[1;32m      <a href='vscode-notebook-cell:/Users/inakiarango/Documents/Harvard/Fall%202023/CS252R/molecule-synthesis/Code/property_predictors/deeppurpose_combined_predictor/training/TDC_104_ML_Model_DeepPurpose.ipynb#X26sZmlsZQ%3D%3D?line=7'>8</a>\u001b[0m                                   y \u001b[39m=\u001b[39;49m y, \n\u001b[1;32m      <a href='vscode-notebook-cell:/Users/inakiarango/Documents/Harvard/Fall%202023/CS252R/molecule-synthesis/Code/property_predictors/deeppurpose_combined_predictor/training/TDC_104_ML_Model_DeepPurpose.ipynb#X26sZmlsZQ%3D%3D?line=8'>9</a>\u001b[0m                                   drug_encoding \u001b[39m=\u001b[39;49m drug_encoding,\n\u001b[1;32m     <a href='vscode-notebook-cell:/Users/inakiarango/Documents/Harvard/Fall%202023/CS252R/molecule-synthesis/Code/property_predictors/deeppurpose_combined_predictor/training/TDC_104_ML_Model_DeepPurpose.ipynb#X26sZmlsZQ%3D%3D?line=9'>10</a>\u001b[0m                                   random_seed \u001b[39m=\u001b[39;49m \u001b[39m'\u001b[39;49m\u001b[39mTDC\u001b[39;49m\u001b[39m'\u001b[39;49m)\n\u001b[1;32m     <a href='vscode-notebook-cell:/Users/inakiarango/Documents/Harvard/Fall%202023/CS252R/molecule-synthesis/Code/property_predictors/deeppurpose_combined_predictor/training/TDC_104_ML_Model_DeepPurpose.ipynb#X26sZmlsZQ%3D%3D?line=10'>11</a>\u001b[0m config \u001b[39m=\u001b[39m utils\u001b[39m.\u001b[39mgenerate_config(drug_encoding \u001b[39m=\u001b[39m drug_encoding, \n\u001b[1;32m     <a href='vscode-notebook-cell:/Users/inakiarango/Documents/Harvard/Fall%202023/CS252R/molecule-synthesis/Code/property_predictors/deeppurpose_combined_predictor/training/TDC_104_ML_Model_DeepPurpose.ipynb#X26sZmlsZQ%3D%3D?line=11'>12</a>\u001b[0m                      train_epoch \u001b[39m=\u001b[39m \u001b[39m5\u001b[39m, \n\u001b[1;32m     <a href='vscode-notebook-cell:/Users/inakiarango/Documents/Harvard/Fall%202023/CS252R/molecule-synthesis/Code/property_predictors/deeppurpose_combined_predictor/training/TDC_104_ML_Model_DeepPurpose.ipynb#X26sZmlsZQ%3D%3D?line=12'>13</a>\u001b[0m                      LR \u001b[39m=\u001b[39m \u001b[39m0.001\u001b[39m, \n\u001b[0;32m   (...)\u001b[0m\n\u001b[1;32m     <a href='vscode-notebook-cell:/Users/inakiarango/Documents/Harvard/Fall%202023/CS252R/molecule-synthesis/Code/property_predictors/deeppurpose_combined_predictor/training/TDC_104_ML_Model_DeepPurpose.ipynb#X26sZmlsZQ%3D%3D?line=15'>16</a>\u001b[0m                      mpnn_depth \u001b[39m=\u001b[39m \u001b[39m2\u001b[39m\n\u001b[1;32m     <a href='vscode-notebook-cell:/Users/inakiarango/Documents/Harvard/Fall%202023/CS252R/molecule-synthesis/Code/property_predictors/deeppurpose_combined_predictor/training/TDC_104_ML_Model_DeepPurpose.ipynb#X26sZmlsZQ%3D%3D?line=16'>17</a>\u001b[0m                     )\n\u001b[1;32m     <a href='vscode-notebook-cell:/Users/inakiarango/Documents/Harvard/Fall%202023/CS252R/molecule-synthesis/Code/property_predictors/deeppurpose_combined_predictor/training/TDC_104_ML_Model_DeepPurpose.ipynb#X26sZmlsZQ%3D%3D?line=17'>18</a>\u001b[0m model \u001b[39m=\u001b[39m CompoundPred\u001b[39m.\u001b[39mmodel_initialize(\u001b[39m*\u001b[39m\u001b[39m*\u001b[39mconfig)\n",
      "File \u001b[0;32m~/Documents/Harvard/Fall 2023/CS252R/molecule-synthesis/synthesis_env/lib/python3.11/site-packages/DeepPurpose/utils.py:545\u001b[0m, in \u001b[0;36mdata_process\u001b[0;34m(X_drug, X_target, y, drug_encoding, target_encoding, split_method, frac, random_seed, sample_frac, mode, X_drug_, X_target_)\u001b[0m\n\u001b[1;32m    543\u001b[0m \tdf_data \u001b[39m=\u001b[39m encode_protein(df_data, target_encoding, \u001b[39m'\u001b[39m\u001b[39mTarget Sequence 2\u001b[39m\u001b[39m'\u001b[39m, \u001b[39m'\u001b[39m\u001b[39mtarget_encoding_2\u001b[39m\u001b[39m'\u001b[39m)\n\u001b[1;32m    544\u001b[0m \u001b[39melif\u001b[39;00m property_prediction_flag:\n\u001b[0;32m--> 545\u001b[0m \tdf_data \u001b[39m=\u001b[39m encode_drug(df_data, drug_encoding)\n\u001b[1;32m    546\u001b[0m \u001b[39melif\u001b[39;00m function_prediction_flag:\n\u001b[1;32m    547\u001b[0m \tdf_data \u001b[39m=\u001b[39m encode_protein(df_data, target_encoding)\n",
      "File \u001b[0;32m~/Documents/Harvard/Fall 2023/CS252R/molecule-synthesis/synthesis_env/lib/python3.11/site-packages/DeepPurpose/utils.py:391\u001b[0m, in \u001b[0;36mencode_drug\u001b[0;34m(df_data, drug_encoding, column_name, save_column_name)\u001b[0m\n\u001b[1;32m    389\u001b[0m \tdf_data[save_column_name] \u001b[39m=\u001b[39m [unique_dict[i] \u001b[39mfor\u001b[39;00m i \u001b[39min\u001b[39;00m df_data[column_name]]\n\u001b[1;32m    390\u001b[0m \u001b[39melif\u001b[39;00m drug_encoding \u001b[39m==\u001b[39m \u001b[39m'\u001b[39m\u001b[39mMPNN\u001b[39m\u001b[39m'\u001b[39m:\n\u001b[0;32m--> 391\u001b[0m \tunique \u001b[39m=\u001b[39m pd\u001b[39m.\u001b[39;49mSeries(df_data[column_name]\u001b[39m.\u001b[39;49munique())\u001b[39m.\u001b[39;49mapply(smiles2mpnnfeature)\n\u001b[1;32m    392\u001b[0m \tunique_dict \u001b[39m=\u001b[39m \u001b[39mdict\u001b[39m(\u001b[39mzip\u001b[39m(df_data[column_name]\u001b[39m.\u001b[39munique(), unique))\n\u001b[1;32m    393\u001b[0m \tdf_data[save_column_name] \u001b[39m=\u001b[39m [unique_dict[i] \u001b[39mfor\u001b[39;00m i \u001b[39min\u001b[39;00m df_data[column_name]]\n",
      "File \u001b[0;32m~/Documents/Harvard/Fall 2023/CS252R/molecule-synthesis/synthesis_env/lib/python3.11/site-packages/pandas/core/series.py:4760\u001b[0m, in \u001b[0;36mSeries.apply\u001b[0;34m(self, func, convert_dtype, args, by_row, **kwargs)\u001b[0m\n\u001b[1;32m   4625\u001b[0m \u001b[39mdef\u001b[39;00m \u001b[39mapply\u001b[39m(\n\u001b[1;32m   4626\u001b[0m     \u001b[39mself\u001b[39m,\n\u001b[1;32m   4627\u001b[0m     func: AggFuncType,\n\u001b[0;32m   (...)\u001b[0m\n\u001b[1;32m   4632\u001b[0m     \u001b[39m*\u001b[39m\u001b[39m*\u001b[39mkwargs,\n\u001b[1;32m   4633\u001b[0m ) \u001b[39m-\u001b[39m\u001b[39m>\u001b[39m DataFrame \u001b[39m|\u001b[39m Series:\n\u001b[1;32m   4634\u001b[0m \u001b[39m    \u001b[39m\u001b[39m\"\"\"\u001b[39;00m\n\u001b[1;32m   4635\u001b[0m \u001b[39m    Invoke function on values of Series.\u001b[39;00m\n\u001b[1;32m   4636\u001b[0m \n\u001b[0;32m   (...)\u001b[0m\n\u001b[1;32m   4751\u001b[0m \u001b[39m    dtype: float64\u001b[39;00m\n\u001b[1;32m   4752\u001b[0m \u001b[39m    \"\"\"\u001b[39;00m\n\u001b[1;32m   4753\u001b[0m     \u001b[39mreturn\u001b[39;00m SeriesApply(\n\u001b[1;32m   4754\u001b[0m         \u001b[39mself\u001b[39;49m,\n\u001b[1;32m   4755\u001b[0m         func,\n\u001b[1;32m   4756\u001b[0m         convert_dtype\u001b[39m=\u001b[39;49mconvert_dtype,\n\u001b[1;32m   4757\u001b[0m         by_row\u001b[39m=\u001b[39;49mby_row,\n\u001b[1;32m   4758\u001b[0m         args\u001b[39m=\u001b[39;49margs,\n\u001b[1;32m   4759\u001b[0m         kwargs\u001b[39m=\u001b[39;49mkwargs,\n\u001b[0;32m-> 4760\u001b[0m     )\u001b[39m.\u001b[39;49mapply()\n",
      "File \u001b[0;32m~/Documents/Harvard/Fall 2023/CS252R/molecule-synthesis/synthesis_env/lib/python3.11/site-packages/pandas/core/apply.py:1207\u001b[0m, in \u001b[0;36mSeriesApply.apply\u001b[0;34m(self)\u001b[0m\n\u001b[1;32m   1204\u001b[0m     \u001b[39mreturn\u001b[39;00m \u001b[39mself\u001b[39m\u001b[39m.\u001b[39mapply_compat()\n\u001b[1;32m   1206\u001b[0m \u001b[39m# self.func is Callable\u001b[39;00m\n\u001b[0;32m-> 1207\u001b[0m \u001b[39mreturn\u001b[39;00m \u001b[39mself\u001b[39;49m\u001b[39m.\u001b[39;49mapply_standard()\n",
      "File \u001b[0;32m~/Documents/Harvard/Fall 2023/CS252R/molecule-synthesis/synthesis_env/lib/python3.11/site-packages/pandas/core/apply.py:1287\u001b[0m, in \u001b[0;36mSeriesApply.apply_standard\u001b[0;34m(self)\u001b[0m\n\u001b[1;32m   1281\u001b[0m \u001b[39m# row-wise access\u001b[39;00m\n\u001b[1;32m   1282\u001b[0m \u001b[39m# apply doesn't have a `na_action` keyword and for backward compat reasons\u001b[39;00m\n\u001b[1;32m   1283\u001b[0m \u001b[39m# we need to give `na_action=\"ignore\"` for categorical data.\u001b[39;00m\n\u001b[1;32m   1284\u001b[0m \u001b[39m# TODO: remove the `na_action=\"ignore\"` when that default has been changed in\u001b[39;00m\n\u001b[1;32m   1285\u001b[0m \u001b[39m#  Categorical (GH51645).\u001b[39;00m\n\u001b[1;32m   1286\u001b[0m action \u001b[39m=\u001b[39m \u001b[39m\"\u001b[39m\u001b[39mignore\u001b[39m\u001b[39m\"\u001b[39m \u001b[39mif\u001b[39;00m \u001b[39misinstance\u001b[39m(obj\u001b[39m.\u001b[39mdtype, CategoricalDtype) \u001b[39melse\u001b[39;00m \u001b[39mNone\u001b[39;00m\n\u001b[0;32m-> 1287\u001b[0m mapped \u001b[39m=\u001b[39m obj\u001b[39m.\u001b[39;49m_map_values(\n\u001b[1;32m   1288\u001b[0m     mapper\u001b[39m=\u001b[39;49mcurried, na_action\u001b[39m=\u001b[39;49maction, convert\u001b[39m=\u001b[39;49m\u001b[39mself\u001b[39;49m\u001b[39m.\u001b[39;49mconvert_dtype\n\u001b[1;32m   1289\u001b[0m )\n\u001b[1;32m   1291\u001b[0m \u001b[39mif\u001b[39;00m \u001b[39mlen\u001b[39m(mapped) \u001b[39mand\u001b[39;00m \u001b[39misinstance\u001b[39m(mapped[\u001b[39m0\u001b[39m], ABCSeries):\n\u001b[1;32m   1292\u001b[0m     \u001b[39m# GH#43986 Need to do list(mapped) in order to get treated as nested\u001b[39;00m\n\u001b[1;32m   1293\u001b[0m     \u001b[39m#  See also GH#25959 regarding EA support\u001b[39;00m\n\u001b[1;32m   1294\u001b[0m     \u001b[39mreturn\u001b[39;00m obj\u001b[39m.\u001b[39m_constructor_expanddim(\u001b[39mlist\u001b[39m(mapped), index\u001b[39m=\u001b[39mobj\u001b[39m.\u001b[39mindex)\n",
      "File \u001b[0;32m~/Documents/Harvard/Fall 2023/CS252R/molecule-synthesis/synthesis_env/lib/python3.11/site-packages/pandas/core/base.py:921\u001b[0m, in \u001b[0;36mIndexOpsMixin._map_values\u001b[0;34m(self, mapper, na_action, convert)\u001b[0m\n\u001b[1;32m    918\u001b[0m \u001b[39mif\u001b[39;00m \u001b[39misinstance\u001b[39m(arr, ExtensionArray):\n\u001b[1;32m    919\u001b[0m     \u001b[39mreturn\u001b[39;00m arr\u001b[39m.\u001b[39mmap(mapper, na_action\u001b[39m=\u001b[39mna_action)\n\u001b[0;32m--> 921\u001b[0m \u001b[39mreturn\u001b[39;00m algorithms\u001b[39m.\u001b[39;49mmap_array(arr, mapper, na_action\u001b[39m=\u001b[39;49mna_action, convert\u001b[39m=\u001b[39;49mconvert)\n",
      "File \u001b[0;32m~/Documents/Harvard/Fall 2023/CS252R/molecule-synthesis/synthesis_env/lib/python3.11/site-packages/pandas/core/algorithms.py:1814\u001b[0m, in \u001b[0;36mmap_array\u001b[0;34m(arr, mapper, na_action, convert)\u001b[0m\n\u001b[1;32m   1812\u001b[0m values \u001b[39m=\u001b[39m arr\u001b[39m.\u001b[39mastype(\u001b[39mobject\u001b[39m, copy\u001b[39m=\u001b[39m\u001b[39mFalse\u001b[39;00m)\n\u001b[1;32m   1813\u001b[0m \u001b[39mif\u001b[39;00m na_action \u001b[39mis\u001b[39;00m \u001b[39mNone\u001b[39;00m:\n\u001b[0;32m-> 1814\u001b[0m     \u001b[39mreturn\u001b[39;00m lib\u001b[39m.\u001b[39;49mmap_infer(values, mapper, convert\u001b[39m=\u001b[39;49mconvert)\n\u001b[1;32m   1815\u001b[0m \u001b[39melse\u001b[39;00m:\n\u001b[1;32m   1816\u001b[0m     \u001b[39mreturn\u001b[39;00m lib\u001b[39m.\u001b[39mmap_infer_mask(\n\u001b[1;32m   1817\u001b[0m         values, mapper, mask\u001b[39m=\u001b[39misna(values)\u001b[39m.\u001b[39mview(np\u001b[39m.\u001b[39muint8), convert\u001b[39m=\u001b[39mconvert\n\u001b[1;32m   1818\u001b[0m     )\n",
      "File \u001b[0;32mlib.pyx:2920\u001b[0m, in \u001b[0;36mpandas._libs.lib.map_infer\u001b[0;34m()\u001b[0m\n",
      "File \u001b[0;32m~/Documents/Harvard/Fall 2023/CS252R/molecule-synthesis/synthesis_env/lib/python3.11/site-packages/DeepPurpose/utils.py:293\u001b[0m, in \u001b[0;36msmiles2mpnnfeature\u001b[0;34m(smiles)\u001b[0m\n\u001b[1;32m    291\u001b[0m \t\u001b[39massert\u001b[39;00m atoms_completion_num \u001b[39m>\u001b[39m\u001b[39m=\u001b[39m \u001b[39m0\u001b[39m \u001b[39mand\u001b[39;00m bonds_completion_num \u001b[39m>\u001b[39m\u001b[39m=\u001b[39m \u001b[39m0\u001b[39m\n\u001b[1;32m    292\u001b[0m \u001b[39mexcept\u001b[39;00m:\n\u001b[0;32m--> 293\u001b[0m \t\u001b[39mraise\u001b[39;00m \u001b[39mException\u001b[39;00m(\u001b[39m\"\u001b[39m\u001b[39mPlease increasing MAX_ATOM in line 26 utils.py, for example, MAX_ATOM=600 and reinstall it via \u001b[39m\u001b[39m'\u001b[39m\u001b[39mpython setup.py install\u001b[39m\u001b[39m'\u001b[39m\u001b[39m. The current setting is for small molecule. \u001b[39m\u001b[39m\"\u001b[39m)\n\u001b[1;32m    296\u001b[0m fatoms_dim \u001b[39m=\u001b[39m fatoms\u001b[39m.\u001b[39mshape[\u001b[39m1\u001b[39m]\n\u001b[1;32m    297\u001b[0m fbonds_dim \u001b[39m=\u001b[39m fbonds\u001b[39m.\u001b[39mshape[\u001b[39m1\u001b[39m]\n",
      "\u001b[0;31mException\u001b[0m: Please increasing MAX_ATOM in line 26 utils.py, for example, MAX_ATOM=600 and reinstall it via 'python setup.py install'. The current setting is for small molecule. "
     ]
    },
    {
     "data": {
      "image/png": "[encoded data removed]",
      "text/plain": [
       "<Figure size 640x480 with 1 Axes>"
      ]
     },
     "metadata": {},
     "output_type": "display_data"
    }
   ],
   "source": [
    "from tdc.utils import retrieve_dataset_names\n",
    "adme_datasets = retrieve_dataset_names('ADME')\n",
    "\n",
    "for dataset_name in adme_datasets:\n",
    "    X, y = ADME(name = dataset_name).get_data(format = 'DeepPurpose')\n",
    "    drug_encoding = 'MPNN'\n",
    "    train, val, test = utils.data_process(X_drug = X, \n",
    "                                      y = y, \n",
    "                                      drug_encoding = drug_encoding,\n",
    "                                      random_seed = 'TDC')\n",
    "    config = utils.generate_config(drug_encoding = drug_encoding, \n",
    "                         train_epoch = 5, \n",
    "                         LR = 0.001, \n",
    "                         batch_size = 128,\n",
    "                         mpnn_hidden_size = 32,\n",
    "                         mpnn_depth = 2\n",
    "                        )\n",
    "    model = CompoundPred.model_initialize(**config)\n",
    "    model.train(train, val, test)\n",
    "    model.save_model('./' + dataset_name + '_model')"
   ]
  },
  {
   "cell_type": "markdown",
   "metadata": {},
   "source": [
    "We have tested the above code and it would print out all the training process. We omit the output here since it is a bit long. But hopefully, you could get the gist of it. DeepPurpose also allows to do similar modeling for DTI, DDI, PPI and protein function prediction! Checkout the [repository](https://github.com/kexinhuang12345/DeepPurpose)!\n",
    "\n",
    "That's it for this tutorial!"
   ]
  }
 ],
 "metadata": {
  "kernelspec": {
   "display_name": "Python 3 (ipykernel)",
   "language": "python",
   "name": "python3"
  },
  "language_info": {
   "codemirror_mode": {
    "name": "ipython",
    "version": 3
   },
   "file_extension": ".py",
   "mimetype": "text/x-python",
   "name": "python",
   "nbconvert_exporter": "python",
   "pygments_lexer": "ipython3",
   "version": "3.11.6"
  }
 },
 "nbformat": 4,
 "nbformat_minor": 4
}
