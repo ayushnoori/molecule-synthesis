{
 "cells": [
  {
   "cell_type": "code",
   "execution_count": null,
   "metadata": {},
   "outputs": [],
   "source": [
    "from typing import Any, cast\n",
    "\n",
    "from DeepPurpose import utils, CompoundPred\n",
    "from tdc.single_pred import ADME\n",
    "from tdc.utils import retrieve_dataset_names\n",
    "\n",
    "from utils.printing import IPythonPrinter\n",
    "from multi_model import MultiModel, MultiModelSinglePredictionModelArgument"
   ]
  },
  {
   "cell_type": "code",
   "execution_count": null,
   "metadata": {},
   "outputs": [],
   "source": [
    "printer = IPythonPrinter()"
   ]
  },
  {
   "cell_type": "code",
   "execution_count": null,
   "metadata": {},
   "outputs": [],
   "source": [
    "adme_datasets = cast(list[str], retrieve_dataset_names(\"ADME\"))\n",
    "print(f\"Number of ADME datasets available from TDC: {len(adme_datasets)}\")\n",
    "printer.print_markdown(\"**Datasets available:**\")\n",
    "for dataset in adme_datasets:\n",
    "    printer.print_markdown(f\"1. {dataset}\")\n",
    "printer.flush()"
   ]
  },
  {
   "cell_type": "code",
   "execution_count": null,
   "metadata": {},
   "outputs": [],
   "source": [
    "augmented_models = [\n",
    "    MultiModelSinglePredictionModelArgument(\n",
    "        name=dataset_name,\n",
    "        model=None,\n",
    "        dataloader=ADME(name=dataset_name),\n",
    "    ) for dataset_name in adme_datasets\n",
    "]\n",
    "augmented_models"
   ]
  },
  {
   "cell_type": "code",
   "execution_count": null,
   "metadata": {},
   "outputs": [],
   "source": [
    "multi_model = MultiModel(augmented_models=augmented_models)\n",
    "print(multi_model.augmented_models)"
   ]
  },
  {
   "cell_type": "code",
   "execution_count": null,
   "metadata": {},
   "outputs": [],
   "source": [
    "multi_model.train()"
   ]
  },
  {
   "cell_type": "code",
   "execution_count": null,
   "metadata": {},
   "outputs": [],
   "source": [
    "def save(multi: MultiModel, model_dir) -> None:\n",
    "    \"\"\"\n",
    "    Save the model to a directory.\n",
    "\n",
    "    :param model_dir: The directory to save the model to.\n",
    "    \"\"\"\n",
    "    model_dir = Path(model_dir)  # Ensure that model_dir is a Path object\n",
    "    model_dir.mkdir(parents=True, exist_ok=True)\n",
    "    for augmented_model in multi.augmented_models:\n",
    "        augmented_model.model.save_model(\n",
    "            str(\n",
    "                model_dir / augmented_model.name\n",
    "            )  # No need to sanizize the name here, it is already sanitized in the __init__ method\n",
    "        )"
   ]
  },
  {
   "cell_type": "code",
   "execution_count": null,
   "metadata": {},
   "outputs": [],
   "source": [
    "from pathlib import Path\n",
    "multi_model.save(model_dir=Path(\"../../Data/property_predictors/multi_models/adme\"))"
   ]
  },
  {
   "cell_type": "code",
   "execution_count": null,
   "metadata": {},
   "outputs": [],
   "source": []
  }
 ],
 "metadata": {
  "kernelspec": {
   "display_name": "DeepPurpose",
   "language": "python",
   "name": "python3"
  },
  "language_info": {
   "codemirror_mode": {
    "name": "ipython",
    "version": 3
   },
   "file_extension": ".py",
   "mimetype": "text/x-python",
   "name": "python",
   "nbconvert_exporter": "python",
   "pygments_lexer": "ipython3",
   "version": "3.11.5"
  }
 },
 "nbformat": 4,
 "nbformat_minor": 2
}
