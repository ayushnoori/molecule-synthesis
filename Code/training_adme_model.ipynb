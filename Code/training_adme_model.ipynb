{
 "cells": [
  {
   "cell_type": "code",
   "execution_count": 1,
   "metadata": {},
   "outputs": [
    {
     "ename": "ModuleNotFoundError",
     "evalue": "No module named 'multisynth.utils'",
     "output_type": "error",
     "traceback": [
      "\u001b[0;31m---------------------------------------------------------------------------\u001b[0m",
      "\u001b[0;31mModuleNotFoundError\u001b[0m                       Traceback (most recent call last)",
      "\u001b[1;32m/Users/inakiarango/Documents/Harvard/Fall 2023/CS252R/molecule-synthesis/Code/training_adme_model.ipynb Cell 1\u001b[0m line \u001b[0;36m7\n\u001b[1;32m      <a href='vscode-notebook-cell:/Users/inakiarango/Documents/Harvard/Fall%202023/CS252R/molecule-synthesis/Code/training_adme_model.ipynb#W0sZmlsZQ%3D%3D?line=3'>4</a>\u001b[0m \u001b[39mfrom\u001b[39;00m \u001b[39mtdc\u001b[39;00m\u001b[39m.\u001b[39;00m\u001b[39msingle_pred\u001b[39;00m \u001b[39mimport\u001b[39;00m ADME\n\u001b[1;32m      <a href='vscode-notebook-cell:/Users/inakiarango/Documents/Harvard/Fall%202023/CS252R/molecule-synthesis/Code/training_adme_model.ipynb#W0sZmlsZQ%3D%3D?line=4'>5</a>\u001b[0m \u001b[39mfrom\u001b[39;00m \u001b[39mtdc\u001b[39;00m\u001b[39m.\u001b[39;00m\u001b[39mutils\u001b[39;00m \u001b[39mimport\u001b[39;00m retrieve_dataset_names\n\u001b[0;32m----> <a href='vscode-notebook-cell:/Users/inakiarango/Documents/Harvard/Fall%202023/CS252R/molecule-synthesis/Code/training_adme_model.ipynb#W0sZmlsZQ%3D%3D?line=6'>7</a>\u001b[0m \u001b[39mfrom\u001b[39;00m \u001b[39mmultisynth\u001b[39;00m\u001b[39m.\u001b[39;00m\u001b[39mutils\u001b[39;00m\u001b[39m.\u001b[39;00m\u001b[39mprinting\u001b[39;00m \u001b[39mimport\u001b[39;00m IPythonPrinter\n\u001b[1;32m      <a href='vscode-notebook-cell:/Users/inakiarango/Documents/Harvard/Fall%202023/CS252R/molecule-synthesis/Code/training_adme_model.ipynb#W0sZmlsZQ%3D%3D?line=7'>8</a>\u001b[0m \u001b[39mfrom\u001b[39;00m \u001b[39mmultisynth\u001b[39;00m\u001b[39m.\u001b[39;00m\u001b[39mmulti_model\u001b[39;00m \u001b[39mimport\u001b[39;00m MultiModel, MultiModelSinglePredictionModelArgument\n",
      "\u001b[0;31mModuleNotFoundError\u001b[0m: No module named 'multisynth.utils'"
     ]
    }
   ],
   "source": [
    "from typing import Any, cast\n",
    "\n",
    "from DeepPurpose import utils, CompoundPred\n",
    "from tdc.single_pred import ADME\n",
    "from tdc.utils import retrieve_dataset_names\n",
    "\n",
    "from multisynth.utils.printing import IPythonPrinter\n",
    "from multisynth.multi_model import MultiModel, MultiModelSinglePredictionModelArgument"
   ]
  },
  {
   "cell_type": "code",
   "execution_count": null,
   "metadata": {},
   "outputs": [],
   "source": [
    "printer = IPythonPrinter()"
   ]
  },
  {
   "cell_type": "code",
   "execution_count": null,
   "metadata": {},
   "outputs": [],
   "source": [
    "adme_datasets = cast(list[str], retrieve_dataset_names(\"ADME\"))\n",
    "print(f\"Number of ADME datasets available from TDC: {len(adme_datasets)}\")\n",
    "printer.print_markdown(\"**Datasets available:**\")\n",
    "for dataset in adme_datasets:\n",
    "    printer.print_markdown(f\"1. {dataset}\")\n",
    "printer.flush()"
   ]
  },
  {
   "cell_type": "code",
   "execution_count": null,
   "metadata": {},
   "outputs": [],
   "source": [
    "augmented_models = [\n",
    "    MultiModelSinglePredictionModelArgument(\n",
    "        name=dataset_name,\n",
    "        model=None,\n",
    "        dataloader=ADME(name=dataset_name, path=\"../../Data/TDC_ADME\"),\n",
    "    ) for dataset_name in adme_datasets\n",
    "]\n",
    "augmented_models"
   ]
  },
  {
   "cell_type": "code",
   "execution_count": null,
   "metadata": {},
   "outputs": [],
   "source": [
    "multi_model = MultiModel(augmented_models=augmented_models)\n",
    "print(multi_model.augmented_models)"
   ]
  },
  {
   "cell_type": "code",
   "execution_count": null,
   "metadata": {},
   "outputs": [],
   "source": [
    "multi_model.train()"
   ]
  },
  {
   "cell_type": "code",
   "execution_count": null,
   "metadata": {},
   "outputs": [],
   "source": [
    "from pathlib import Path\n",
    "multi_model.save(model_dir=Path(\"../../Data/property_predictors/multi_models/adme\"))"
   ]
  },
  {
   "cell_type": "code",
   "execution_count": null,
   "metadata": {},
   "outputs": [],
   "source": []
  }
 ],
 "metadata": {
  "kernelspec": {
   "display_name": "DeepPurpose",
   "language": "python",
   "name": "python3"
  },
  "language_info": {
   "codemirror_mode": {
    "name": "ipython",
    "version": 3
   },
   "file_extension": ".py",
   "mimetype": "text/x-python",
   "name": "python",
   "nbconvert_exporter": "python",
   "pygments_lexer": "ipython3",
   "version": "3.11.5"
  }
 },
 "nbformat": 4,
 "nbformat_minor": 2
}
